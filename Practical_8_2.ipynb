{
  "nbformat": 4,
  "nbformat_minor": 0,
  "metadata": {
    "colab": {
      "name": "Practical 8.2",
      "provenance": [],
      "authorship_tag": "ABX9TyNv6VgyFhup4AdGgwTlFAfx",
      "include_colab_link": true
    },
    "kernelspec": {
      "name": "python3",
      "display_name": "Python 3"
    },
    "language_info": {
      "name": "python"
    }
  },
  "cells": [
    {
      "cell_type": "markdown",
      "metadata": {
        "id": "view-in-github",
        "colab_type": "text"
      },
      "source": [
        "<a href=\"https://colab.research.google.com/github/varunherlekar/EM-algorithm/blob/main/Practical_8_2.ipynb\" target=\"_parent\"><img src=\"https://colab.research.google.com/assets/colab-badge.svg\" alt=\"Open In Colab\"/></a>"
      ]
    },
    {
      "cell_type": "code",
      "execution_count": null,
      "metadata": {
        "colab": {
          "base_uri": "https://localhost:8080/",
          "height": 1000
        },
        "id": "LQGCU-7P_8Zo",
        "outputId": "75b26d02-c8a9-4f83-ee42-e801140a3141"
      },
      "outputs": [
        {
          "output_type": "stream",
          "name": "stdout",
          "text": [
            "     Driver_ID  Distance_Feature  Speeding_Feature\n",
            "0   3423311935             71.24                28\n",
            "1   3423313212             52.53                25\n",
            "2   3423313724             64.54                27\n",
            "3   3423311373             55.69                22\n",
            "4   3423310999             54.58                25\n",
            "5   3423313857             41.91                10\n",
            "6   3423312432             58.64                20\n",
            "7   3423311434             52.02                 8\n",
            "8   3423311328             31.25                34\n",
            "9   3423312488             44.31                19\n",
            "10  3423311254             49.35                40\n",
            "11  3423312943             58.07                45\n",
            "12  3423312536             44.22                22\n",
            "13  3423311542             55.73                19\n",
            "14  3423312176             46.63                43\n",
            "15  3423314176             52.97                32\n",
            "16  3423314202             46.25                35\n",
            "17  3423311346             51.55                27\n",
            "18  3423310666             57.05                26\n",
            "19  3423313527             58.45                30\n",
            "20  3423312182             43.42                23\n",
            "21  3423313590             55.68                37\n",
            "22  3423312268             55.15                18\n"
          ]
        },
        {
          "output_type": "display_data",
          "data": {
            "image/png": "[encoded data removed]",
            "text/plain": [
              "<Figure size 432x288 with 1 Axes>"
            ]
          },
          "metadata": {
            "needs_background": "light"
          }
        },
        {
          "output_type": "stream",
          "name": "stderr",
          "text": [
            "/usr/local/lib/python3.7/dist-packages/sklearn/utils/validation.py:598: FutureWarning: np.matrix usage is deprecated in 1.0 and will raise a TypeError in 1.2. Please convert to a numpy array with np.asarray. For more information see: https://numpy.org/doc/stable/reference/generated/numpy.matrix.html\n",
            "  FutureWarning,\n"
          ]
        },
        {
          "output_type": "display_data",
          "data": {
            "image/png": "[encoded data removed]",
            "text/plain": [
              "<Figure size 432x288 with 1 Axes>"
            ]
          },
          "metadata": {
            "needs_background": "light"
          }
        }
      ],
      "source": [
        "from sklearn.cluster import KMeans\n",
        "\n",
        "import numpy as np\n",
        "import matplotlib.pyplot as plt\n",
        "import pandas as pd\n",
        "data=pd.read_csv(\"practical8.2.csv\")\n",
        "df1=pd.DataFrame(data)\n",
        "print(df1)\n",
        "f1 = df1['Distance_Feature'].values\n",
        "f2 = df1['Speeding_Feature'].values\n",
        "X=np.matrix(list(zip(f1,f2)))\n",
        "plt.plot()\n",
        "plt.xlim([0, 100])\n",
        "plt.ylim([0, 50])\n",
        "plt.title('Dataset')\n",
        "plt.ylabel('speeding_feature')\n",
        "plt.xlabel('Distance_Feature')\n",
        "plt.scatter(f1,f2)\n",
        "plt.show()\n",
        "plt.plot()\n",
        "colors = ['b', 'g', 'r']\n",
        "markers = ['o', 'v', 's']\n",
        "kmeans_model = KMeans(n_clusters=3).fit(X)\n",
        "plt.plot()\n",
        "for i, l in enumerate(kmeans_model.labels_):\n",
        "\tplt.plot(f1[i], f2[i], color=colors[l], marker=markers[l],ls='None')\n",
        "\tplt.xlim([0, 100])\n",
        "\tplt.ylim([0, 50])\n",
        "plt.show()\n",
        "\n",
        "  "
      ]
    }
  ]
}